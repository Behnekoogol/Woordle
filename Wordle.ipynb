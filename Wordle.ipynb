{
 "cells": [
  {
   "cell_type": "markdown",
   "id": "a7a3ccb9-e979-4760-8815-cc0fc8de263b",
   "metadata": {
    "tags": []
   },
   "source": [
    "# Build data"
   ]
  },
  {
   "cell_type": "code",
   "execution_count": 1,
   "id": "a812d5ea-951c-42c5-83f0-170bba680cb0",
   "metadata": {
    "tags": []
   },
   "outputs": [],
   "source": [
    "file_path ='./words_frequency.txt'"
   ]
  },
  {
   "cell_type": "code",
   "execution_count": 2,
   "id": "4ba0a61b-af0e-482e-994f-f681ddeff8a0",
   "metadata": {
    "tags": []
   },
   "outputs": [],
   "source": [
    "def generate_word_frequency(file_path, word_len: int=5, limit: int=1000):\n",
    "    #Build Data\n",
    "    word_freq = []\n",
    "    with open(file_path) as f:\n",
    "        for line in f:\n",
    "            word, frequency = line.split(', ')\n",
    "            frequency = int(frequency)\n",
    "            word_freq.append((word, frequency))\n",
    "\n",
    "\n",
    "    #word_len letter words\n",
    "\n",
    "    word_freq = list(filter(lambda w_freq: len(w_freq[0]) == word_len, word_freq))\n",
    "\n",
    "    # Sort data\n",
    "    word_freq = sorted(word_freq, key=lambda word_freq: word_freq[1], reverse=True)\n",
    "\n",
    "    #Limit data\n",
    "    word_freq = word_freq[:limit]\n",
    "\n",
    "    #Drop frequency\n",
    "    words = [w_freq[0] for w_freq in word_freq]\n",
    "    \n",
    "    return words"
   ]
  },
  {
   "cell_type": "code",
   "execution_count": 3,
   "id": "854480fa-d640-4a71-95c0-b7bb22997d9c",
   "metadata": {},
   "outputs": [],
   "source": [
    "word_len = 5\n",
    "limit = 1000"
   ]
  },
  {
   "cell_type": "code",
   "execution_count": 4,
   "id": "ac2aa716-1e5d-4434-95e7-29cdf2b72109",
   "metadata": {},
   "outputs": [],
   "source": [
    "words = generate_word_frequency(file_path)"
   ]
  },
  {
   "cell_type": "code",
   "execution_count": 5,
   "id": "4f26d711-08e5-49a0-9e51-0ec280258e99",
   "metadata": {},
   "outputs": [
    {
     "data": {
      "text/plain": [
       "['about',\n",
       " 'other',\n",
       " 'which',\n",
       " 'their',\n",
       " 'there',\n",
       " 'first',\n",
       " 'would',\n",
       " 'these',\n",
       " 'click',\n",
       " 'price',\n",
       " 'state',\n",
       " 'email',\n",
       " 'world',\n",
       " 'music',\n",
       " 'after',\n",
       " 'video',\n",
       " 'where',\n",
       " 'books',\n",
       " 'links',\n",
       " 'years']"
      ]
     },
     "execution_count": 5,
     "metadata": {},
     "output_type": "execute_result"
    }
   ],
   "source": [
    "words[:20]"
   ]
  },
  {
   "cell_type": "markdown",
   "id": "c9d0d541-5f14-4103-afc3-c3de77d176c6",
   "metadata": {},
   "source": [
    "## Selecting Random Word"
   ]
  },
  {
   "cell_type": "code",
   "execution_count": 6,
   "id": "d38cb0b0-6718-490a-b5b2-589f7326834d",
   "metadata": {},
   "outputs": [],
   "source": [
    "import random"
   ]
  },
  {
   "cell_type": "code",
   "execution_count": 7,
   "id": "465372ed-a039-4b2f-816a-7a9bbe63bf58",
   "metadata": {},
   "outputs": [],
   "source": [
    "random.seed(4)"
   ]
  },
  {
   "cell_type": "code",
   "execution_count": 8,
   "id": "93c7a8bb-e64b-4362-984d-07a2fe7f2e33",
   "metadata": {},
   "outputs": [],
   "source": [
    "word = random.choice(words)"
   ]
  },
  {
   "cell_type": "code",
   "execution_count": 9,
   "id": "26570057-a761-4d8d-97d4-5a4cb76f1314",
   "metadata": {},
   "outputs": [
    {
     "data": {
      "text/plain": [
       "'blood'"
      ]
     },
     "execution_count": 9,
     "metadata": {},
     "output_type": "execute_result"
    }
   ],
   "source": [
    "word"
   ]
  },
  {
   "cell_type": "markdown",
   "id": "d983a2d3-ae2f-40ca-ab08-4a37301ea00c",
   "metadata": {},
   "source": [
    "# Run the Game"
   ]
  },
  {
   "cell_type": "code",
   "execution_count": 10,
   "id": "42f261dc-f135-4fad-99f3-4fdddae8dd38",
   "metadata": {},
   "outputs": [
    {
     "name": "stdout",
     "output_type": "stream",
     "text": [
      "Requirement already satisfied: colorama in /home/behzad/anaconda3/envs/py10/lib/python3.10/site-packages (0.4.6)\n"
     ]
    }
   ],
   "source": [
    "!pip install colorama\n",
    "import colorama\n",
    "from colorama import Fore, Back, Style"
   ]
  },
  {
   "cell_type": "code",
   "execution_count": 11,
   "id": "83e4372b-fdbf-4906-87a2-79c258f948e6",
   "metadata": {},
   "outputs": [],
   "source": [
    "def print_success(text, end='\\n'):\n",
    "    print(Back.GREEN + text, end=end)\n",
    "\n",
    "def print_warning(text, end='\\n'):\n",
    "     print(Back.YELLOW + text, end=end)\n",
    "\n",
    "def print_error(text, end='\\n'):\n",
    "    print(Back.RED + text, end=end)"
   ]
  },
  {
   "cell_type": "code",
   "execution_count": 12,
   "id": "88143c70-fdfc-4ba9-b412-9477cf1927c4",
   "metadata": {},
   "outputs": [
    {
     "name": "stdout",
     "output_type": "stream",
     "text": [
      "\u001b[42msuccess\n"
     ]
    }
   ],
   "source": [
    "print_success('success')"
   ]
  },
  {
   "cell_type": "code",
   "execution_count": 13,
   "id": "c8515bd5-6332-4b00-8b7d-a471a90aea0e",
   "metadata": {},
   "outputs": [
    {
     "name": "stdout",
     "output_type": "stream",
     "text": [
      "\u001b[43mwarning\n"
     ]
    }
   ],
   "source": [
    "print_warning('warning')"
   ]
  },
  {
   "cell_type": "code",
   "execution_count": 14,
   "id": "d5630432-4382-4355-b192-60a510132fdc",
   "metadata": {},
   "outputs": [
    {
     "name": "stdout",
     "output_type": "stream",
     "text": [
      "\u001b[41merror\n"
     ]
    }
   ],
   "source": [
    "print_error('error')"
   ]
  },
  {
   "cell_type": "code",
   "execution_count": 15,
   "id": "8dc27d6f-db36-45d9-959e-155dcee13e2e",
   "metadata": {},
   "outputs": [
    {
     "name": "stdin",
     "output_type": "stream",
     "text": [
      "please enter a 5 letter word, or q to exit apple\n"
     ]
    },
    {
     "name": "stdout",
     "output_type": "stream",
     "text": [
      "\u001b[41ma \u001b[41mp \u001b[41mp \u001b[43ml \u001b[41me \n",
      "\n"
     ]
    },
    {
     "name": "stdin",
     "output_type": "stream",
     "text": [
      "please enter a 5 letter word, or q to exit lampe\n"
     ]
    },
    {
     "name": "stdout",
     "output_type": "stream",
     "text": [
      "\u001b[43ml \u001b[41ma \u001b[41mm \u001b[41mp \u001b[41me \n",
      "\n"
     ]
    },
    {
     "name": "stdin",
     "output_type": "stream",
     "text": [
      "please enter a 5 letter word, or q to exit bleed\n"
     ]
    },
    {
     "name": "stdout",
     "output_type": "stream",
     "text": [
      "\u001b[42mb \u001b[42ml \u001b[41me \u001b[41me \u001b[42md \n",
      "\n"
     ]
    },
    {
     "name": "stdin",
     "output_type": "stream",
     "text": [
      "please enter a 5 letter word, or q to exit blood\n"
     ]
    },
    {
     "name": "stdout",
     "output_type": "stream",
     "text": [
      "\u001b[42mb \u001b[42ml \u001b[42mo \u001b[42mo \u001b[42md \n",
      "\n",
      "\u001b[42m Congratulations! \n"
     ]
    }
   ],
   "source": [
    "num_try = 6\n",
    "success = False\n",
    "while num_try: \n",
    "    guess_word = input(f'please enter a {word_len} letter word, or q to exit')\n",
    "    if guess_word == 'q':\n",
    "        break\n",
    "    #Word length \n",
    "    if len(guess_word) != 5:\n",
    "        print(f'word must be {word_len} letters, you intered {len(guess_word)}' )\n",
    "        continue\n",
    "        \n",
    "    # Valid Invalid position\n",
    "    for w_letter, g_letter in zip(word, guess_word):\n",
    "        if w_letter == g_letter:\n",
    "            print_success((g_letter), end='')\n",
    "            print(' ', end='')\n",
    "            \n",
    "        elif g_letter in word:\n",
    "            print_warning((g_letter), end='')\n",
    "            print(' ', end='')\n",
    "        else: \n",
    "            print_error((g_letter), end='')\n",
    "            print(' ', end='')\n",
    "    print()   \n",
    "    print()   \n",
    "    if word == guess_word:\n",
    "        print_success(' Congratulations! ')\n",
    "        success = True\n",
    "        break\n",
    "            \n",
    "    num_try -=1\n",
    "if not success: \n",
    "    print_warning(f'Game over! the word was \"{word}\"')"
   ]
  },
  {
   "cell_type": "code",
   "execution_count": null,
   "id": "6004016b-9ac9-4a10-8196-6fe47f9fdd0c",
   "metadata": {},
   "outputs": [],
   "source": []
  }
 ],
 "metadata": {
  "kernelspec": {
   "display_name": "Python 3 (ipykernel)",
   "language": "python",
   "name": "python3"
  },
  "language_info": {
   "codemirror_mode": {
    "name": "ipython",
    "version": 3
   },
   "file_extension": ".py",
   "mimetype": "text/x-python",
   "name": "python",
   "nbconvert_exporter": "python",
   "pygments_lexer": "ipython3",
   "version": "3.10.6"
  },
  "vscode": {
   "interpreter": {
    "hash": "c871f0761a41fa1723e16ff8f8aa96c1c868b107f3706707408f24416afc09cc"
   }
  }
 },
 "nbformat": 4,
 "nbformat_minor": 5
}
